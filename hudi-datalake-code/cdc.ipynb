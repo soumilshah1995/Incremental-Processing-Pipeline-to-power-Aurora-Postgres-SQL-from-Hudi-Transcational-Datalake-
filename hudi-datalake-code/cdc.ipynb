{
 "cells": [
  {
   "cell_type": "markdown",
   "id": "2070537b",
   "metadata": {},
   "source": [
    "# Step 1: Define Imports "
   ]
  },
  {
   "cell_type": "code",
   "execution_count": 1,
   "id": "dd129650",
   "metadata": {},
   "outputs": [],
   "source": [
    "try:\n",
    "\n",
    "    import os\n",
    "    import sys\n",
    "    import uuid\n",
    "\n",
    "    import pyspark\n",
    "    from pyspark.sql import SparkSession\n",
    "    from pyspark import SparkConf, SparkContext\n",
    "    from pyspark.sql.functions import col, asc, desc\n",
    "    from pyspark.sql.functions import col, to_timestamp, monotonically_increasing_id, to_date, when\n",
    "    from pyspark.sql.functions import *\n",
    "    from pyspark.sql.types import *\n",
    "    from datetime import datetime\n",
    "    from functools import reduce\n",
    "    from faker import Faker\n",
    "\n",
    "\n",
    "except Exception as e:\n",
    "    pass\n"
   ]
  },
  {
   "cell_type": "markdown",
   "id": "8a9d173a",
   "metadata": {},
   "source": [
    "# Step 2: Create Spark Session "
   ]
  },
  {
   "cell_type": "code",
   "execution_count": 2,
   "id": "8961e2dd",
   "metadata": {},
   "outputs": [
    {
     "data": {
      "text/html": [
       "\n",
       "            <div>\n",
       "                <p><b>SparkSession - in-memory</b></p>\n",
       "                \n",
       "        <div>\n",
       "            <p><b>SparkContext</b></p>\n",
       "\n",
       "            <p><a href=\"http://JTSTDiSSHAH:4041\">Spark UI</a></p>\n",
       "\n",
       "            <dl>\n",
       "              <dt>Version</dt>\n",
       "                <dd><code>v3.3.1</code></dd>\n",
       "              <dt>Master</dt>\n",
       "                <dd><code>local[*]</code></dd>\n",
       "              <dt>AppName</dt>\n",
       "                <dd><code>pyspark-shell</code></dd>\n",
       "            </dl>\n",
       "        </div>\n",
       "        \n",
       "            </div>\n",
       "        "
      ],
      "text/plain": [
       "<pyspark.sql.session.SparkSession at 0x206eb133490>"
      ]
     },
     "execution_count": 2,
     "metadata": {},
     "output_type": "execute_result"
    }
   ],
   "source": [
    "\n",
    "SUBMIT_ARGS = \"--packages org.apache.hudi:hudi-spark3.3-bundle_2.12:0.13.0 pyspark-shell\"\n",
    "os.environ[\"PYSPARK_SUBMIT_ARGS\"] = SUBMIT_ARGS\n",
    "os.environ['PYSPARK_PYTHON'] = sys.executable\n",
    "os.environ['PYSPARK_DRIVER_PYTHON'] = sys.executable\n",
    "\n",
    "spark = SparkSession.builder \\\n",
    "    .config('spark.serializer', 'org.apache.spark.serializer.KryoSerializer') \\\n",
    "    .config('className', 'org.apache.hudi') \\\n",
    "    .config('spark.sql.hive.convertMetastoreParquet', 'false') \\\n",
    "    .getOrCreate()\n",
    "\n",
    "spark"
   ]
  },
  {
   "cell_type": "markdown",
   "id": "aa212662",
   "metadata": {},
   "source": [
    "# Step 3: Define Hudi Settings "
   ]
  },
  {
   "cell_type": "code",
   "execution_count": 3,
   "id": "8cac0de1",
   "metadata": {},
   "outputs": [],
   "source": [
    "db_name = \"hudidb\"\n",
    "table_name = \"hudi_cdc_table\"\n",
    "\n",
    "recordkey = 'uuid'\n",
    "path = f\"file:///C:/tmp/{db_name}/{table_name}\"\n",
    "precombine = \"date\"\n",
    "method = 'upsert'\n",
    "table_type = \"COPY_ON_WRITE\"  # COPY_ON_WRITE | MERGE_ON_READ\n",
    "\n",
    "hudi_options = {\n",
    "    \n",
    "    'hoodie.table.name': table_name,\n",
    "    'hoodie.datasource.write.recordkey.field': recordkey,\n",
    "    'hoodie.datasource.write.table.name': table_name,\n",
    "    'hoodie.datasource.write.operation': method,\n",
    "    'hoodie.datasource.write.precombine.field': precombine,\n",
    "    \n",
    "    'hoodie.table.cdc.enabled':'true',\n",
    "    'hoodie.table.cdc.supplemental.logging.mode': 'data_before_after',\n",
    "    \n",
    "}\n"
   ]
  },
  {
   "cell_type": "markdown",
   "id": "c244c3ac",
   "metadata": {},
   "source": [
    "# Inserting Data "
   ]
  },
  {
   "cell_type": "code",
   "execution_count": 4,
   "id": "7cb9d0db",
   "metadata": {},
   "outputs": [],
   "source": [
    "spark_df = spark.createDataFrame(\n",
    "    data=[\n",
    "    (1, \"insert 1\",  111,  \"2020-01-06 12:12:12\"),\n",
    "    (2, \"insert 2\",  22, \"2020-01-06 12:12:12\"),\n",
    "], \n",
    "    schema=[\"uuid\", \"message\", \"precomb\", \"date\"])\n",
    "\n",
    "spark_df.write.format(\"hudi\"). \\\n",
    "    options(**hudi_options). \\\n",
    "    mode(\"append\"). \\\n",
    "    save(path)\n"
   ]
  },
  {
   "cell_type": "markdown",
   "id": "b8e43d2d",
   "metadata": {},
   "source": [
    "# Late arriving Updates and Inserts"
   ]
  },
  {
   "cell_type": "code",
   "execution_count": 5,
   "id": "e698de3a",
   "metadata": {
    "scrolled": false
   },
   "outputs": [
    {
     "name": "stdout",
     "output_type": "stream",
     "text": [
      "+-------------------+----+--------+\n",
      "|_hoodie_commit_time|uuid| message|\n",
      "+-------------------+----+--------+\n",
      "|  20230304200731674|   1|update 1|\n",
      "|  20230304200206861|   2|insert 2|\n",
      "|  20230304200731674|   3|insert 3|\n",
      "+-------------------+----+--------+\n",
      "\n"
     ]
    }
   ],
   "source": [
    "spark_df = spark.createDataFrame(\n",
    "    data=[\n",
    "    (1, \"update 1\",  111,  \"2020-02-07 12:12:44\"),\n",
    "    (3, \"insert 3\",  33, \"2020-02-07 12:12:32\"),\n",
    "], \n",
    "    schema=[\"uuid\", \"message\", \"precomb\", \"date\"])\n",
    "\n",
    "spark_df.write.format(\"hudi\"). \\\n",
    "    options(**hudi_options). \\\n",
    "    mode(\"append\"). \\\n",
    "    save(path)\n",
    "\n",
    "df = spark. \\\n",
    "      read. \\\n",
    "      format(\"hudi\"). \\\n",
    "      load(path)\n",
    "\n",
    "df.select(['_hoodie_commit_time', 'uuid', 'message']).show()"
   ]
  },
  {
   "cell_type": "code",
   "execution_count": 6,
   "id": "d550fbdb",
   "metadata": {},
   "outputs": [],
   "source": [
    "spark_df = spark.createDataFrame(\n",
    "    data=[\n",
    "    (4, \"insert 4\",  44,  \"2020-02-07 12:12:44\"),\n",
    "    (5, \"insert 5\",  55, \"2020-02-07 12:12:32\"),\n",
    "], \n",
    "    schema=[\"uuid\", \"message\", \"precomb\", \"date\"])\n",
    "\n",
    "spark_df.write.format(\"hudi\"). \\\n",
    "    options(**hudi_options). \\\n",
    "    mode(\"append\"). \\\n",
    "    save(path)"
   ]
  },
  {
   "cell_type": "code",
   "execution_count": null,
   "id": "abd66573",
   "metadata": {},
   "outputs": [],
   "source": []
  }
 ],
 "metadata": {
  "kernelspec": {
   "display_name": "Python 3 (ipykernel)",
   "language": "python",
   "name": "python3"
  },
  "language_info": {
   "codemirror_mode": {
    "name": "ipython",
    "version": 3
   },
   "file_extension": ".py",
   "mimetype": "text/x-python",
   "name": "python",
   "nbconvert_exporter": "python",
   "pygments_lexer": "ipython3",
   "version": "3.9.13"
  }
 },
 "nbformat": 4,
 "nbformat_minor": 5
}
